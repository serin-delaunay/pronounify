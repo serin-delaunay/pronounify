{
 "cells": [
  {
   "cell_type": "code",
   "execution_count": 1,
   "metadata": {
    "collapsed": true
   },
   "outputs": [],
   "source": [
    "import re"
   ]
  },
  {
   "cell_type": "code",
   "execution_count": 2,
   "metadata": {
    "collapsed": true
   },
   "outputs": [],
   "source": [
    "from itertools import product, chain"
   ]
  },
  {
   "cell_type": "code",
   "execution_count": 3,
   "metadata": {
    "collapsed": false
   },
   "outputs": [],
   "source": [
    "def split_nbo_alts(p):\n",
    "    ps = p.split()\n",
    "    return [ps[0]]+[x[1:-1] for x in ps[1:]]"
   ]
  },
  {
   "cell_type": "code",
   "execution_count": 4,
   "metadata": {
    "collapsed": true
   },
   "outputs": [],
   "source": [
    "def extract(text):\n",
    "    r = \"([a-zA-Z']+ \\([a-zA-Z']+\\), |[a-zA-Z']+, ){4}([a-zA-Z']+ \\([a-zA-Z']+\\)|[a-zA-Z']+)\"\n",
    "    # \"asd, asd (asdf), asd'f, as, a\"\n",
    "    nbo = [m.group().split(', ') for m in re.finditer(r, text)]\n",
    "    nbo_alts = [[split_nbo_alts(p) for p in ps] for ps in nbo]\n",
    "    nbo_variants_all = [list(x) for x in chain.from_iterable(product(*alts) for alts in nbo_alts)]\n",
    "    return list(filter(lambda x: 'and' not in x, nbo_variants_all))"
   ]
  },
  {
   "cell_type": "code",
   "execution_count": 5,
   "metadata": {
    "collapsed": true
   },
   "outputs": [],
   "source": [
    "def result():\n",
    "    blather = open('nonbinary_org.txt', encoding=\"utf8\").read()\n",
    "    # http://nonbinary.org/wiki/Pronouns (English section)\n",
    "    return extract(blather)"
   ]
  },
  {
   "cell_type": "code",
   "execution_count": 6,
   "metadata": {
    "collapsed": false
   },
   "outputs": [
    {
     "name": "stdout",
     "output_type": "stream",
     "text": [
      "['che', 'chim', 'chis', 'chis', 'chimself']\n",
      "['co', 'co', \"co's\", \"co's\", 'coself']\n",
      "['co', 'co', 'cos', \"co's\", 'coself']\n",
      "['E', 'Em', 'Eir', 'Eirs', 'Emself']\n",
      "['ey', 'em', 'eir', 'eirs', 'emself']\n",
      "['fae', 'faer', 'faer', 'faers', 'faerself']\n",
      "['fey', 'fey', 'feys', 'feys', 'feyself']\n",
      "['he', 'him', 'his', 'his', 'himself']\n",
      "['it', 'it', 'its', 'its', 'itself']\n",
      "['ze', 'em', 'zeir', 'zeirs', 'zeirself']\n",
      "['ne', 'nem', 'nir', 'nirs', 'nemself']\n",
      "['ne', 'ner', 'nis', 'nis', 'nemself']\n",
      "['ou', 'ou', 'ous', 'ous', 'ouself']\n",
      "['per', 'per', 'per', 'pers', 'perself']\n",
      "['person', 'per', 'per', 'pers', 'perself']\n",
      "['she', 'her', 'her', 'hers', 'herself']\n",
      "['they', 'them', 'their', 'theirs', 'themself']\n",
      "['thon', 'thon', 'thons', \"thon's\", 'thonself']\n",
      "['ve', 'ver', 'vis', 'vis', 'verself']\n",
      "['xe', 'hir', 'hir', 'hirs', 'hirself']\n",
      "['xe', 'xir', 'xir', 'xirs', 'xirself']\n",
      "['xe', 'xyr', 'xyr', 'xyrs', 'xyrself']\n",
      "['xe', 'xyr', 'xyr', 'xyrs', 'xemself']\n",
      "['xe', 'xem', 'xyr', 'xyrs', 'xyrself']\n",
      "['xe', 'xem', 'xyr', 'xyrs', 'xemself']\n",
      "['ze', 'hir', 'hir', 'hirs', 'hirself']\n",
      "['zie', 'zir', 'zir', 'zirs', 'zirself']\n",
      "['zie', 'zim', 'zir', 'zirs', 'zirself']\n"
     ]
    }
   ],
   "source": [
    "if __name__ == '__main__':\n",
    "    printme = result()\n",
    "    for r in printme:\n",
    "        print(r)"
   ]
  }
 ],
 "metadata": {
  "kernelspec": {
   "display_name": "Python 3",
   "language": "python",
   "name": "python3"
  },
  "language_info": {
   "codemirror_mode": {
    "name": "ipython",
    "version": 3
   },
   "file_extension": ".py",
   "mimetype": "text/x-python",
   "name": "python",
   "nbconvert_exporter": "python",
   "pygments_lexer": "ipython3",
   "version": "3.4.2"
  }
 },
 "nbformat": 4,
 "nbformat_minor": 0
}
