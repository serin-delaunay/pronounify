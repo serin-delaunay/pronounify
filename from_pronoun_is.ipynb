{
 "cells": [
  {
   "cell_type": "code",
   "execution_count": 1,
   "metadata": {
    "collapsed": true
   },
   "outputs": [],
   "source": [
    "def extract(text):\n",
    "    return [s.split() for s in text.split('\\n')]"
   ]
  },
  {
   "cell_type": "code",
   "execution_count": 2,
   "metadata": {
    "collapsed": true
   },
   "outputs": [],
   "source": [
    "def result():\n",
    "    source = open('pronoun_is.txt').read()\n",
    "    # https://github.com/witch-house/pronoun.is/blob/develop/resources/pronouns.tab\n",
    "    return extract(source)"
   ]
  },
  {
   "cell_type": "code",
   "execution_count": 3,
   "metadata": {
    "collapsed": false
   },
   "outputs": [
    {
     "name": "stdout",
     "output_type": "stream",
     "text": [
      "['ze', 'hir', 'hir', 'hirs', 'hirself']\n",
      "['ze', 'zir', 'zir', 'zirs', 'zirself']\n",
      "['she', 'her', 'her', 'hers', 'herself']\n",
      "['he', 'him', 'his', 'his', 'himself']\n",
      "['they', 'them', 'their', 'theirs', 'themselves']\n",
      "['they', 'them', 'their', 'theirs', 'themself']\n",
      "['xey', 'xem', 'xyr', 'xyrs', 'xemself']\n",
      "['sie', 'hir', 'hir', 'hirs', 'hirself']\n",
      "['it', 'it', 'its', 'its', 'itself']\n",
      "['ey', 'em', 'eir', 'eirs', 'eirself']\n",
      "['e', 'em', 'eir', 'eirs', 'emself']\n",
      "['hu', 'hum', 'hus', 'hus', 'humself']\n",
      "['peh', 'pehm', \"peh's\", \"peh's\", 'pehself']\n",
      "['per', 'per', 'per', 'pers', 'perself']\n",
      "['thon', 'thon', 'thons', 'thons', 'thonself']\n",
      "['jee', 'jem', 'jeir', 'jeirs', 'jemself']\n",
      "['ve', 'ver', 'vis', 'vis', 'verself']\n",
      "['xe', 'xem', 'xyr', 'xyrs', 'xemself']\n",
      "['zie', 'zir', 'zir', 'zirs', 'zirself']\n",
      "['ze', 'zem', 'zes', 'zes', 'zirself']\n",
      "['zie', 'zem', 'zes', 'zes', 'zirself']\n",
      "['ze', 'mer', 'zer', 'zers', 'zemself']\n",
      "['se', 'sim', 'ser', 'sers', 'serself']\n",
      "['zme', 'zmyr', 'zmyr', 'zmyrs', 'zmyrself']\n",
      "['ve', 'vem', 'vir', 'virs', 'vemself']\n",
      "['zee', 'zed', 'zeta', 'zetas', 'zedself']\n",
      "['fae', 'faer', 'faer', 'faers', 'faerself']\n",
      "['zie', 'hir', 'hir', 'hirs', 'hirself']\n",
      "['si', 'hyr', 'hyr', 'hyrs', 'hyrself']\n",
      "['kit', 'kit', 'kits', 'kits', 'kitself']\n",
      "['ne', 'nem', 'nir', 'nirs', 'nemself']\n"
     ]
    }
   ],
   "source": [
    "if __name__ == '__main__':\n",
    "    printme = result()\n",
    "    for r in printme:\n",
    "        print(r)"
   ]
  }
 ],
 "metadata": {
  "kernelspec": {
   "display_name": "Python 3",
   "language": "python",
   "name": "python3"
  },
  "language_info": {
   "codemirror_mode": {
    "name": "ipython",
    "version": 3
   },
   "file_extension": ".py",
   "mimetype": "text/x-python",
   "name": "python",
   "nbconvert_exporter": "python",
   "pygments_lexer": "ipython3",
   "version": "3.4.2"
  }
 },
 "nbformat": 4,
 "nbformat_minor": 0
}
