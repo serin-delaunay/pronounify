{
 "cells": [
  {
   "cell_type": "code",
   "execution_count": 1,
   "metadata": {
    "collapsed": true
   },
   "outputs": [],
   "source": [
    "# The following pronoun sets are deliberately excluded because:\n",
    "#    * They seem to have been recorded incorrectly on the source page\n",
    "#    * They are written in a form which this package cannot yet parse correctly\n",
    "#    * They are used in a language whose case system does not match that of English pronouns"
   ]
  },
  {
   "cell_type": "code",
   "execution_count": 2,
   "metadata": {
    "collapsed": true
   },
   "outputs": [],
   "source": [
    "bad_pronouns = [\n",
    "    ['oni', 'nich', 'im', 'ich', 'nimi'],\n",
    "    ['bea', 'beat', 'beats', 'beatself', 'beatself'],\n",
    "    ['ora', 'torio', 'tor', 'tors', 'torio'],\n",
    "    ['ang', 'angel', 'angels', 'angels', 'angelsslf'],\n",
    "    ['nata', 'coco', 'des', 'des', 'natas']\n",
    "]"
   ]
  }
 ],
 "metadata": {
  "kernelspec": {
   "display_name": "Python 3",
   "language": "python",
   "name": "python3"
  },
  "language_info": {
   "codemirror_mode": {
    "name": "ipython",
    "version": 3
   },
   "file_extension": ".py",
   "mimetype": "text/x-python",
   "name": "python",
   "nbconvert_exporter": "python",
   "pygments_lexer": "ipython3",
   "version": "3.4.2"
  }
 },
 "nbformat": 4,
 "nbformat_minor": 0
}
