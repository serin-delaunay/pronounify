{
 "cells": [
  {
   "cell_type": "code",
   "execution_count": 1,
   "metadata": {
    "collapsed": true
   },
   "outputs": [],
   "source": [
    "import re\n",
    "from get_content import get_content, get_html_plaintext"
   ]
  },
  {
   "cell_type": "code",
   "execution_count": 2,
   "metadata": {
    "collapsed": true
   },
   "outputs": [],
   "source": [
    "def extract(text):\n",
    "    r = \"([a-zA-Z'*]+/){4}[a-zA-Z'*]+\"\n",
    "    # \"asd/as*/a*d/*sd/dsa\"\n",
    "    pronouns = [m.group().split(', ') for m in re.finditer(r, text)]\n",
    "    return [ps[0].split('/') for ps in pronouns]"
   ]
  },
  {
   "cell_type": "code",
   "execution_count": 3,
   "metadata": {
    "collapsed": false
   },
   "outputs": [],
   "source": [
    "def result():\n",
    "    targets = ['http://destroythecistem.tumblr.com/pronouns',\n",
    "               'http://askanonbinary.tumblr.com/general',\n",
    "               #'http://askanonbinary.tumblr.com/non-english',\n",
    "               'http://askanonbinary.tumblr.com/animal',\n",
    "               'http://askanonbinary.tumblr.com/nature',\n",
    "               'http://askanonbinary.tumblr.com/creature',\n",
    "               'http://askanonbinary.tumblr.com/royal',\n",
    "               'http://askanonbinary.tumblr.com/ungrouped'\n",
    "              ]\n",
    "    all_pronouns = '\\n'.join(get_html_plaintext(get_content(target))\n",
    "                             for target in targets)\n",
    "    return extract(all_pronouns)"
   ]
  },
  {
   "cell_type": "code",
   "execution_count": 4,
   "metadata": {
    "collapsed": false
   },
   "outputs": [
    {
     "name": "stdout",
     "output_type": "stream",
     "text": [
      "['be', 'am', 'is', 'is', 'amself']\n",
      "['be', 'am', 'are', 'ares', 'amself']\n",
      "['am', 'am', 'ams', 'ams', 'amself']\n",
      "['be', 'are', 'ares', 'ares', 'areself']\n",
      "['be', 'are', 'is', 'is', 'areself']\n",
      "['ze', 'zeb', 'zebr', 'zebrs', 'zebself']\n",
      "['po', 'pon', 'pos', 'pons', 'poself']\n",
      "['char', 'char', 'char', 'chars', 'charself']\n",
      "['sta', 'stal', 'stal', 'stals', 'stalself']\n",
      "['ge', 'gel', 'gel', 'gels', 'gelself']\n",
      "['mae', 'mare', 'mare', 'mares', 'mareself']\n",
      "['fo', 'foa', 'foal', 'foals', 'foself']\n",
      "['col', 'col', 'col', 'cols', 'colself']\n",
      "['fi', 'fil', 'fil', 'fils', 'filself']\n",
      "['ste', 'step', 'step', 'steps', 'stepself']\n",
      "['bron', 'bronc', 'bronc', 'broncs', 'broncself']\n"
     ]
    }
   ],
   "source": [
    "if __name__ == '__main__':\n",
    "    printme = result()\n",
    "    for r in printme:\n",
    "        print(r)"
   ]
  }
 ],
 "metadata": {
  "kernelspec": {
   "display_name": "Python 3",
   "language": "python",
   "name": "python3"
  },
  "language_info": {
   "codemirror_mode": {
    "name": "ipython",
    "version": 3
   },
   "file_extension": ".py",
   "mimetype": "text/x-python",
   "name": "python",
   "nbconvert_exporter": "python",
   "pygments_lexer": "ipython3",
   "version": "3.4.2"
  }
 },
 "nbformat": 4,
 "nbformat_minor": 0
}
