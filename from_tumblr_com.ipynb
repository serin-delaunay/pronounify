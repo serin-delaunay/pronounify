{
 "cells": [
  {
   "cell_type": "code",
   "execution_count": 1,
   "metadata": {
    "collapsed": true
   },
   "outputs": [],
   "source": [
    "import re\n",
    "from get_content import get_content, get_html_plaintext"
   ]
  },
  {
   "cell_type": "code",
   "execution_count": 2,
   "metadata": {
    "collapsed": true
   },
   "outputs": [],
   "source": [
    "def extract(text):\n",
    "    #r = \"([a-zA-Z'*]+/){4}[a-zA-Z'*]+\"\n",
    "    #accept only exactly 5 words separated by 4 slashes.\n",
    "    #reject forms with 6 words to avoid getting slavic language cases\n",
    "    r = \"(?<![/\\w])([^\\s/(),]+/){4}([^\\s/(),]+)(?![/\\w])\"\n",
    "    # \"asd/as*/a*d/*sd/dsa\"\n",
    "    pronouns = [m.group().split(', ') for m in re.finditer(r, text)]\n",
    "    return [ps[0].split('/') for ps in pronouns]"
   ]
  },
  {
   "cell_type": "code",
   "execution_count": 3,
   "metadata": {
    "collapsed": false
   },
   "outputs": [],
   "source": [
    "def result():\n",
    "    targets = [#'http://destroythecistem.tumblr.com/pronouns',\n",
    "               'http://pronoun-provider.tumblr.com/pronouns',\n",
    "               #'http://askanonbinary.tumblr.com/general',\n",
    "               #'http://askanonbinary.tumblr.com/non-english',\n",
    "               'http://askanonbinary.tumblr.com/animal',\n",
    "               #'http://askanonbinary.tumblr.com/nature',\n",
    "               #'http://askanonbinary.tumblr.com/creature',\n",
    "               #'http://askanonbinary.tumblr.com/royal',\n",
    "               #'http://askanonbinary.tumblr.com/ungrouped'\n",
    "              ]\n",
    "    print(\"getting html from {0} urls\".format(len(targets)))\n",
    "    all_pronouns = '\\n'.join(get_html_plaintext(get_content(target))\n",
    "                             for target in targets)\n",
    "    print(\"html contained {0} plaintext chars\".format(len(all_pronouns)))\n",
    "    return extract(all_pronouns)"
   ]
  },
  {
   "cell_type": "code",
   "execution_count": 4,
   "metadata": {
    "collapsed": false
   },
   "outputs": [
    {
     "name": "stdout",
     "output_type": "stream",
     "text": [
      "getting html from 2 urls\n",
      "html contained 86185 plaintext chars\n"
     ]
    }
   ],
   "source": [
    "if __name__ == '__main__':\n",
    "    printme = result()\n",
    "    #nope!\n",
    "    #for r in printme:\n",
    "    #    print(r)"
   ]
  }
 ],
 "metadata": {
  "kernelspec": {
   "display_name": "Python 3",
   "language": "python",
   "name": "python3"
  },
  "language_info": {
   "codemirror_mode": {
    "name": "ipython",
    "version": 3
   },
   "file_extension": ".py",
   "mimetype": "text/x-python",
   "name": "python",
   "nbconvert_exporter": "python",
   "pygments_lexer": "ipython3",
   "version": "3.4.2"
  }
 },
 "nbformat": 4,
 "nbformat_minor": 0
}
