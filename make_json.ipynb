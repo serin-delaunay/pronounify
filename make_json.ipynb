{
 "cells": [
  {
   "cell_type": "code",
   "execution_count": 1,
   "metadata": {
    "collapsed": true
   },
   "outputs": [],
   "source": [
    "import json\n",
    "from bad_pronouns import bad_pronouns"
   ]
  },
  {
   "cell_type": "code",
   "execution_count": 2,
   "metadata": {
    "collapsed": true
   },
   "outputs": [],
   "source": [
    "from collections import OrderedDict"
   ]
  },
  {
   "cell_type": "code",
   "execution_count": 3,
   "metadata": {
    "collapsed": false
   },
   "outputs": [],
   "source": [
    "def make_obj(pronoun):\n",
    "    r = OrderedDict()\n",
    "    r['subject']= pronoun[0]\n",
    "    r['object']= pronoun[1]\n",
    "    r['dependentPossessive']= pronoun[2]\n",
    "    r['independentPossessive']= pronoun[3]\n",
    "    r['reflexive']= pronoun[4]\n",
    "    return r"
   ]
  },
  {
   "cell_type": "code",
   "execution_count": 4,
   "metadata": {
    "collapsed": true
   },
   "outputs": [],
   "source": [
    "def make_json(pronouns, fn=None):\n",
    "    pronouns = set(tuple(p) for p in pronouns)\n",
    "    pronouns = [make_obj(p) for p in sorted(pronouns)]\n",
    "    py_obj = OrderedDict([\n",
    "            ('description', 'Third person personal pronouns with case'),\n",
    "            ('thirdPersonPronouns', pronouns)])\n",
    "    if fn is None:\n",
    "        return json.dumps(py_obj, indent=2)\n",
    "    else:\n",
    "        json.dump(py_obj, open(fn, 'w', encoding='utf8'),\n",
    "                  indent=2, ensure_ascii=False)"
   ]
  },
  {
   "cell_type": "code",
   "execution_count": 5,
   "metadata": {
    "collapsed": true
   },
   "outputs": [],
   "source": [
    "def check_pronoun(ps):\n",
    "    weird = False\n",
    "    if any(p.endswith('elf') or p.endswith('elves') for p in ps[:-1]):\n",
    "        weird = True\n",
    "    if not (ps[4].endswith('elf') or ps[4].endswith('elves')):\n",
    "        weird = True\n",
    "    if weird:\n",
    "        print('weird pronoun set: {0}'.format(ps))"
   ]
  },
  {
   "cell_type": "code",
   "execution_count": 6,
   "metadata": {
    "collapsed": true
   },
   "outputs": [],
   "source": [
    "def check_pronouns(pronouns):\n",
    "    for p in pronouns:\n",
    "        check_pronoun(p)"
   ]
  },
  {
   "cell_type": "code",
   "execution_count": 7,
   "metadata": {
    "collapsed": false
   },
   "outputs": [],
   "source": [
    "from from_nonbinary_org import result as result1\n",
    "from from_pronoun_is import result as result2\n",
    "from from_tumblr_com import result as result3"
   ]
  },
  {
   "cell_type": "code",
   "execution_count": 8,
   "metadata": {
    "collapsed": false
   },
   "outputs": [
    {
     "name": "stdout",
     "output_type": "stream",
     "text": [
      "getting pronouns\n",
      "getting html from 2 urls\n",
      "html contained 86185 plaintext chars\n",
      "got 1571 pronouns\n",
      "making json\n",
      "weird pronoun set: ['oni', 'nich', 'im', 'ich', 'nimi']\n",
      "weird pronoun set: ['jel', 'jelm', 'jelier', 'jels', 'jellyfish']\n",
      "weird pronoun set: ['ma', 'mar', 'ara', 'mara', 'marmarasel']\n",
      "weird pronoun set: ['elf', 'elven', 'vens', 'vens', 'elfself']\n",
      "weird pronoun set: ['bea', 'beat', 'beats', 'beatself', 'beatself']\n",
      "weird pronoun set: ['ora', 'torio', 'tor', 'tors', 'torio']\n",
      "weird pronoun set: ['ang', 'angel', 'angels', 'angels', 'angelsslf']\n",
      "weird pronoun set: ['moon', 'cake', 'cakes', 'cakes', 'mooncakes']\n",
      "weird pronoun set: ['nata', 'coco', 'des', 'des', 'natas']\n",
      "done\n"
     ]
    }
   ],
   "source": [
    "if __name__ == '__main__':\n",
    "    print('getting pronouns')\n",
    "    all_pronouns = result1()+result2()+result3()\n",
    "    print('got {0} pronouns'.format(len(all_pronouns)))\n",
    "    print('making json')\n",
    "    check_pronouns(all_pronouns)\n",
    "    all_pronouns = filter(lambda x: x not in bad_pronouns,\n",
    "                          all_pronouns)\n",
    "    make_json(all_pronouns, 'thirdPersonPronouns.json')\n",
    "    print('done')\n",
    "    #print(make_json(all_pronouns)) # let's not"
   ]
  }
 ],
 "metadata": {
  "kernelspec": {
   "display_name": "Python 3",
   "language": "python",
   "name": "python3"
  },
  "language_info": {
   "codemirror_mode": {
    "name": "ipython",
    "version": 3
   },
   "file_extension": ".py",
   "mimetype": "text/x-python",
   "name": "python",
   "nbconvert_exporter": "python",
   "pygments_lexer": "ipython3",
   "version": "3.4.2"
  }
 },
 "nbformat": 4,
 "nbformat_minor": 0
}
