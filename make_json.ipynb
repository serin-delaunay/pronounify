{
 "cells": [
  {
   "cell_type": "code",
   "execution_count": 1,
   "metadata": {
    "collapsed": true
   },
   "outputs": [],
   "source": [
    "import json"
   ]
  },
  {
   "cell_type": "code",
   "execution_count": 2,
   "metadata": {
    "collapsed": true
   },
   "outputs": [],
   "source": [
    "from collections import OrderedDict"
   ]
  },
  {
   "cell_type": "code",
   "execution_count": 3,
   "metadata": {
    "collapsed": false
   },
   "outputs": [],
   "source": [
    "def make_obj(pronoun):\n",
    "    r = OrderedDict()\n",
    "    r['subject']= pronoun[0]\n",
    "    r['object']= pronoun[1]\n",
    "    r['dependentPossessive']= pronoun[2]\n",
    "    r['independentPossessive']= pronoun[3]\n",
    "    r['reflexive']= pronoun[4]\n",
    "    return r"
   ]
  },
  {
   "cell_type": "code",
   "execution_count": 4,
   "metadata": {
    "collapsed": true
   },
   "outputs": [],
   "source": [
    "def make_json(pronouns, fn='thirdPersonPronouns.json'):\n",
    "    pronouns = set(tuple(p) for p in pronouns)\n",
    "    pronouns = [make_obj(p) for p in sorted(pronouns)]\n",
    "    py_obj = {'description': 'Third person personal pronouns with case',\n",
    "              'thirdPersonPronouns': pronouns}\n",
    "    return json.dump(py_obj, open(fn, 'w'),indent=2)"
   ]
  },
  {
   "cell_type": "code",
   "execution_count": 5,
   "metadata": {
    "collapsed": false
   },
   "outputs": [],
   "source": [
    "from from_nonbinary_org import result as result1\n",
    "from from_pronoun_is import result as result2\n",
    "from from_aanbtc import result as result3"
   ]
  },
  {
   "cell_type": "code",
   "execution_count": 6,
   "metadata": {
    "collapsed": true
   },
   "outputs": [],
   "source": [
    "if __name__ == '__main__':\n",
    "    make_json(result1()+result2()+result3())"
   ]
  }
 ],
 "metadata": {
  "kernelspec": {
   "display_name": "Python 3",
   "language": "python",
   "name": "python3"
  },
  "language_info": {
   "codemirror_mode": {
    "name": "ipython",
    "version": 3
   },
   "file_extension": ".py",
   "mimetype": "text/x-python",
   "name": "python",
   "nbconvert_exporter": "python",
   "pygments_lexer": "ipython3",
   "version": "3.4.2"
  }
 },
 "nbformat": 4,
 "nbformat_minor": 0
}
