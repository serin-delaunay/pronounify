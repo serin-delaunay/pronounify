{
 "cells": [
  {
   "cell_type": "code",
   "execution_count": 1,
   "metadata": {
    "collapsed": true
   },
   "outputs": [],
   "source": [
    "import re"
   ]
  },
  {
   "cell_type": "code",
   "execution_count": 2,
   "metadata": {
    "collapsed": true
   },
   "outputs": [],
   "source": [
    "def extract(text):\n",
    "    r = \"([a-zA-Z'*]+/){4}[a-zA-Z'*]+\"\n",
    "    # \"asd/as*/a*d/*sd/dsa\"\n",
    "    pronouns = [m.group().split(', ') for m in re.finditer(r, text)]\n",
    "    return [ps[0].split('/') for ps in pronouns]"
   ]
  },
  {
   "cell_type": "code",
   "execution_count": 3,
   "metadata": {
    "collapsed": false
   },
   "outputs": [],
   "source": [
    "def result():\n",
    "    all_pronouns = open('aanbtc.txt').read()\n",
    "    # http://askanonbinary.tumblr.com/pronouns\n",
    "    #all_pronouns = general + animal + nature + creature + royal + misc\n",
    "    return extract(all_pronouns)"
   ]
  },
  {
   "cell_type": "code",
   "execution_count": 4,
   "metadata": {
    "collapsed": false
   },
   "outputs": [
    {
     "name": "stdout",
     "output_type": "stream",
     "text": [
      "['ze', 'zeb', 'zebr', 'zebrs', 'zebself']\n",
      "['po', 'pon', 'pos', 'pons', 'poself']\n",
      "['char', 'char', 'char', 'chars', 'charself']\n",
      "['sta', 'stal', 'stal', 'stals', 'stalself']\n",
      "['ge', 'gel', 'gel', 'gels', 'gelself']\n",
      "['mae', 'mare', 'mare', 'mares', 'mareself']\n",
      "['fo', 'foa', 'foal', 'foals', 'foself']\n",
      "['col', 'col', 'col', 'cols', 'colself']\n",
      "['fi', 'fil', 'fil', 'fils', 'filself']\n",
      "['ste', 'step', 'step', 'steps', 'stepself']\n",
      "['bron', 'bronc', 'bronc', 'broncs', 'broncself']\n"
     ]
    }
   ],
   "source": [
    "if __name__ == '__main__':\n",
    "    printme = result()\n",
    "    for r in printme:\n",
    "        print(r)"
   ]
  }
 ],
 "metadata": {
  "kernelspec": {
   "display_name": "Python 3",
   "language": "python",
   "name": "python3"
  },
  "language_info": {
   "codemirror_mode": {
    "name": "ipython",
    "version": 3
   },
   "file_extension": ".py",
   "mimetype": "text/x-python",
   "name": "python",
   "nbconvert_exporter": "python",
   "pygments_lexer": "ipython3",
   "version": "3.4.2"
  }
 },
 "nbformat": 4,
 "nbformat_minor": 0
}
