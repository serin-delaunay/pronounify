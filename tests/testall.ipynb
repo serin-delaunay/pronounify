{
 "cells": [
  {
   "cell_type": "code",
   "execution_count": 1,
   "metadata": {
    "collapsed": true
   },
   "outputs": [],
   "source": [
    "from import_utils import add_relative_path\n",
    "add_relative_path('..')"
   ]
  },
  {
   "cell_type": "code",
   "execution_count": 2,
   "metadata": {
    "collapsed": false
   },
   "outputs": [],
   "source": [
    "import unittest"
   ]
  },
  {
   "cell_type": "code",
   "execution_count": 3,
   "metadata": {
    "collapsed": false
   },
   "outputs": [],
   "source": [
    "import json\n",
    "from make_json import make_json #ipython\n",
    "#from .make_json import make_json #python\n",
    "\n",
    "class json_tests(unittest.TestCase):\n",
    "    def validate_format(self, obj):\n",
    "        self.assertEqual(set(obj.keys()), {'description','thirdPersonPronouns'})\n",
    "        self.assertEqual(obj['description'], 'Third person personal pronouns with case')\n",
    "        self.assertIsInstance(obj['thirdPersonPronouns'], list)\n",
    "        for x in obj['thirdPersonPronouns']:\n",
    "            self.assertIsInstance(x, dict)\n",
    "            self.assertEqual(set(x.keys()),\n",
    "                             {'subject', 'object',\n",
    "                              'dependentPossessive',\n",
    "                              'independentPossessive',\n",
    "                              'reflexive'})\n",
    "            for y in x.values():\n",
    "                self.assertIsInstance(y, str)\n",
    "    def test_accepts_empty(self):\n",
    "        empty = make_json([])\n",
    "        obj = json.loads(empty)\n",
    "        self.validate_format(obj)\n",
    "    def validate_entry(self, pronouns, obj):\n",
    "        self.assertEqual(pronouns[0], obj['subject'])\n",
    "        self.assertEqual(pronouns[1], obj['object'])\n",
    "        self.assertEqual(pronouns[2], obj['dependentPossessive'])\n",
    "        self.assertEqual(pronouns[3], obj['independentPossessive'])\n",
    "        self.assertEqual(pronouns[4], obj['reflexive'])\n",
    "    def accepts_single(self, pronouns):\n",
    "        single = make_json([pronouns])\n",
    "        obj = json.loads(single)\n",
    "        self.validate_format(obj)\n",
    "        self.validate_entry(pronouns, obj['thirdPersonPronouns'][0])\n",
    "    def test_accepts_single(self):\n",
    "        self.accepts_single(('they', 'them', 'their', 'theirs', 'themself'))\n",
    "        self.accepts_single(('moo', 'quack', 'Carmilla Karnstein', 'a'*2048,\n",
    "                             '¬!\"£$%^&*()_+`1234567890-=QWERTYUIOP{}qwertyuiop[]'\n",
    "                             'ASDFGHJKL:@~asdghjkl;\\'#|ZXCVBNM<>?\\\\zxcvbnm,./'))\n",
    "    def test_accepts_multiple(self):\n",
    "        multiple = make_json([['a','b','c','d','e'],['f','g','h','i','j']])\n",
    "        obj = json.loads(multiple)\n",
    "        self.validate_format(obj)\n",
    "        self.validate_entry(['a','b','c','d','e'],obj['thirdPersonPronouns'][0])\n",
    "        self.validate_entry(['f','g','h','i','j'],obj['thirdPersonPronouns'][1])\n",
    "    def test_removes_dupes(self):\n",
    "        multiple = make_json([['a','b','c','d','e'],\n",
    "                              ['f','g','h','i','j'],\n",
    "                              ['a','b','c','d','e']])\n",
    "        obj = json.loads(multiple)\n",
    "        self.validate_format(obj)\n",
    "        self.assertEqual(len(obj['thirdPersonPronouns']), 2)\n",
    "        self.validate_entry(['a','b','c','d','e'],obj['thirdPersonPronouns'][0])\n",
    "        self.validate_entry(['f','g','h','i','j'],obj['thirdPersonPronouns'][1])\n",
    "    def test_fail_missing(self):\n",
    "        with self.assertRaises(Exception):\n",
    "            make_json([['a','b','c','d']])\n",
    "        with self.assertRaises(Exception):\n",
    "            make_json([[]])"
   ]
  },
  {
   "cell_type": "code",
   "execution_count": 4,
   "metadata": {
    "collapsed": false
   },
   "outputs": [],
   "source": [
    "import from_pronoun_is\n",
    "class pronoun_is_tests(unittest.TestCase):\n",
    "    def test_parsing(self):\n",
    "        self.assertEqual(\n",
    "            from_pronoun_is.extract(\n",
    "                \"\"\"ze\thir\thir\thirs\thirself\n",
    "ze\tzir\tzir\tzirs\tzirself\"\"\"),\n",
    "            [['ze','hir','hir','hirs','hirself'],\n",
    "             ['ze','zir','zir','zirs','zirself']])\n",
    "    def test_results(self):\n",
    "        r = from_pronoun_is.result()\n",
    "        self.assertGreater(len(r), 10)\n",
    "        for x in r:\n",
    "            self.assertEqual(len(x),5)\n",
    "            for p in x:\n",
    "                self.assertIsInstance(p, str)"
   ]
  },
  {
   "cell_type": "code",
   "execution_count": 5,
   "metadata": {
    "collapsed": true
   },
   "outputs": [],
   "source": [
    "import from_nonbinary_org\n",
    "class nonbinary_org_tests(unittest.TestCase):\n",
    "    def test_parsing_basic(self):\n",
    "        self.assertEqual(\n",
    "            from_nonbinary_org.extract(\n",
    "                'I, me, my, mine, myself'),\n",
    "            [['I','me','my','mine','myself']])\n",
    "        self.assertEqual(\n",
    "            from_nonbinary_org.extract(\n",
    "                'I, me, my, mine, myself. blah blah '\n",
    "                'she, her, her, hers, herself miaouw '),\n",
    "            [['I','me','my','mine','myself'],\n",
    "             ['she','her','her','hers','herself']])\n",
    "    def test_parsing_alternatives(self):\n",
    "        self.assertEqual(\n",
    "            from_nonbinary_org.extract(\n",
    "                'a, b, c, d (e), f'),\n",
    "            [['a','b','c','d','f'],\n",
    "             ['a','b','c','e','f']])\n",
    "        self.assertEqual(\n",
    "            from_nonbinary_org.extract(\n",
    "                'a, b, c, d, e (f)'),\n",
    "            [['a','b','c','d','e'],\n",
    "             ['a','b','c','d','f']])\n",
    "        self.assertEqual(\n",
    "            from_nonbinary_org.extract(\n",
    "                'a, b (g), c, d, e (f)'),\n",
    "            [['a','b','c','d','e'],\n",
    "             ['a','b','c','d','f'],\n",
    "             ['a','g','c','d','e'],\n",
    "             ['a','g','c','d','f']])\n",
    "    def test_results(self):\n",
    "        r = from_nonbinary_org.result()\n",
    "        self.assertGreater(len(r), 20)\n",
    "        for x in r:\n",
    "            self.assertEqual(len(x),5)\n",
    "            for p in x:\n",
    "                self.assertIsInstance(p, str)"
   ]
  },
  {
   "cell_type": "code",
   "execution_count": 6,
   "metadata": {
    "collapsed": false
   },
   "outputs": [],
   "source": [
    "import from_tumblr_com\n",
    "class tumblr_com_tests(unittest.TestCase):\n",
    "    def test_parsing(self):\n",
    "        self.assertEqual(\n",
    "            from_tumblr_com.extract(\n",
    "                'a/b/c/d/e f/g/h/i/j'),\n",
    "            [['a','b','c','d','e'],\n",
    "             ['f','g','h','i','j']])\n",
    "    def test_results(self):\n",
    "        r = from_tumblr_com.result()\n",
    "        self.assertGreater(len(r), 5)\n",
    "        for x in r:\n",
    "            self.assertEqual(len(x),5)\n",
    "            for p in x:\n",
    "                self.assertIsInstance(p, str)\n",
    "        "
   ]
  }
 ],
 "metadata": {
  "kernelspec": {
   "display_name": "Python 3",
   "language": "python",
   "name": "python3"
  },
  "language_info": {
   "codemirror_mode": {
    "name": "ipython",
    "version": 3
   },
   "file_extension": ".py",
   "mimetype": "text/x-python",
   "name": "python",
   "nbconvert_exporter": "python",
   "pygments_lexer": "ipython3",
   "version": "3.4.2"
  }
 },
 "nbformat": 4,
 "nbformat_minor": 0
}
