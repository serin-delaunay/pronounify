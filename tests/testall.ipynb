{
 "cells": [
  {
   "cell_type": "code",
   "execution_count": 6,
   "metadata": {
    "collapsed": true
   },
   "outputs": [],
   "source": [
    "from import_utils import add_relative_path\n",
    "add_relative_path('..')"
   ]
  },
  {
   "cell_type": "code",
   "execution_count": 17,
   "metadata": {
    "collapsed": false
   },
   "outputs": [],
   "source": [
    "import unittest\n",
    "import json\n",
    "from make_json import make_json #ipython\n",
    "#from .make_json import make_json #python"
   ]
  },
  {
   "cell_type": "code",
   "execution_count": 19,
   "metadata": {
    "collapsed": true
   },
   "outputs": [],
   "source": [
    "def correct_format(text):\n",
    "    obj = json.loads(text)"
   ]
  },
  {
   "cell_type": "code",
   "execution_count": 23,
   "metadata": {
    "collapsed": false
   },
   "outputs": [
    {
     "ename": "SyntaxError",
     "evalue": "invalid syntax (<ipython-input-23-f52dcf0ccb17>, line 19)",
     "output_type": "error",
     "traceback": [
      "\u001b[1;36m  File \u001b[1;32m\"<ipython-input-23-f52dcf0ccb17>\"\u001b[1;36m, line \u001b[1;32m19\u001b[0m\n\u001b[1;33m    def validate_\u001b[0m\n\u001b[1;37m                 ^\u001b[0m\n\u001b[1;31mSyntaxError\u001b[0m\u001b[1;31m:\u001b[0m invalid syntax\n"
     ]
    }
   ],
   "source": [
    "class json_tests(unittest.TestCase):\n",
    "    def validate_format(self, obj):\n",
    "        self.assertEqual(set(obj.keys()), {'description','thirdPersonPronouns'})\n",
    "        self.assertEqual(obj['description'], 'Third person personal pronouns with case')\n",
    "        self.assertIsInstance(obj['thirdPersonPronouns'], list)\n",
    "        for x in obj['thirdPersonPronouns']:\n",
    "            self.assertIsInstance(x, dict)\n",
    "            self.assertEqual(set(x.keys()),\n",
    "                             {'subject', 'object',\n",
    "                              'dependentPossessive',\n",
    "                              'independentPossessive',\n",
    "                              'reflexive'})\n",
    "            for y in x.values():\n",
    "                self.assertIsInstance(y, str)\n",
    "    def test_accepts_empty(self):\n",
    "        empty = make_json([])\n",
    "        obj = json.loads(empty)\n",
    "        self.validate_format(obj)\n",
    "    #def validate_entry(self, obj):\n",
    "    #    pass\n",
    "    def accepts_single(self, pronouns):\n",
    "        single = make_json([pronouns])\n",
    "        obj = json.loads(single)\n",
    "        self.validate_format(obj)\n",
    "        self.assertEqual(pronouns[0], obj['thirdPersonPronouns'][0]['subject'])\n",
    "        self.assertEqual(pronouns[1], obj['thirdPersonPronouns'][0]['object'])\n",
    "        self.assertEqual(pronouns[2], obj['thirdPersonPronouns'][0]['dependentPossessive'])\n",
    "        self.assertEqual(pronouns[3], obj['thirdPersonPronouns'][0]['independentPossessive'])\n",
    "        self.assertEqual(pronouns[4], obj['thirdPersonPronouns'][0]['reflexive'])\n",
    "    def test_accepts_single(self):\n",
    "        self.accepts_single(('they', 'them', 'their', 'theirs', 'themself'))\n",
    "        self.accepts_single(('moo', 'quack', 'Carmilla Karnstein', 'a'*2048,\n",
    "                             '¬!\"£$%^&*()_+`1234567890-=QWERTYUIOP{}qwertyuiop[]'\n",
    "                             'ASDFGHJKL:@~asdghjkl;\\'#|ZXCVBNM<>?\\\\zxcvbnm,./'))\n",
    "    #def test_accepts_multiple(self):\n",
    "    #    pass"
   ]
  },
  {
   "cell_type": "code",
   "execution_count": null,
   "metadata": {
    "collapsed": true
   },
   "outputs": [],
   "source": []
  }
 ],
 "metadata": {
  "kernelspec": {
   "display_name": "Python 3",
   "language": "python",
   "name": "python3"
  },
  "language_info": {
   "codemirror_mode": {
    "name": "ipython",
    "version": 3
   },
   "file_extension": ".py",
   "mimetype": "text/x-python",
   "name": "python",
   "nbconvert_exporter": "python",
   "pygments_lexer": "ipython3",
   "version": "3.4.2"
  }
 },
 "nbformat": 4,
 "nbformat_minor": 0
}
